{
 "cells": [
  {
   "cell_type": "code",
   "execution_count": 15,
   "metadata": {},
   "outputs": [
    {
     "name": "stdout",
     "output_type": "stream",
     "text": [
      "Enter any non negative number:6\n",
      "factorial of number  6 is: 720\n"
     ]
    }
   ],
   "source": [
    "#Factorial of a given number\n",
    "num=int(input(\"Enter any non negative number:\"))\n",
    "if num==0:\n",
    "    print(\"You entered zero and factorial of zero is 1..\")\n",
    "else:\n",
    "        temp=num\n",
    "        f=1\n",
    "        while (temp>0):\n",
    "            f=f*temp\n",
    "            temp=temp-1\n",
    "print(\"factorial of number \",num,\"is:\",f)"
   ]
  },
  {
   "cell_type": "code",
   "execution_count": 16,
   "metadata": {},
   "outputs": [
    {
     "name": "stdout",
     "output_type": "stream",
     "text": [
      "Enter the limit of fibonaci series:5\n",
      "Fibonaci series upto 5 terms are: \n",
      "0  1  1  2  3  "
     ]
    }
   ],
   "source": [
    "#Fibanaci series upto a limit\n",
    "n=int(input(\"Enter the limit of fibonaci series:\"))\n",
    "a=c=d=0\n",
    "b=1\n",
    "print(\"Fibonaci series upto\",n,\"terms are: \")\n",
    "while d<=n-1:\n",
    "    print(c,\" \",end=\"\")\n",
    "    a=b\n",
    "    b=c\n",
    "    c=a+b\n",
    "    d=d+1"
   ]
  },
  {
   "cell_type": "code",
   "execution_count": 23,
   "metadata": {},
   "outputs": [
    {
     "name": "stdout",
     "output_type": "stream",
     "text": [
      "Enter the first number:14\n",
      "Enter the second number:3\n",
      "The greatest common divisor of 14 and 3 is 1\n"
     ]
    }
   ],
   "source": [
    "#Greatest common divisors of 2 numbers\n",
    "num1=int(input(\"Enter the first number:\"))\n",
    "num2=int(input(\"Enter the second number:\"))\n",
    "if num1<num2:\n",
    "    m=num1\n",
    "else:\n",
    "    m=num2\n",
    "while m>0:\n",
    "    if(num1%m==0)and(num2%m==0):\n",
    "        print(\"The greatest common divisor of\",num1,\"and\",num2,\"is\",m)\n",
    "        break\n",
    "    m=m-1"
   ]
  },
  {
   "cell_type": "code",
   "execution_count": 27,
   "metadata": {},
   "outputs": [
    {
     "name": "stdout",
     "output_type": "stream",
     "text": [
      "Enter some comma seperated numbers: 8,8,9\n",
      "Sum of elements of the list  1 is: 25\n"
     ]
    }
   ],
   "source": [
    "#sum of elements of a list\n",
    "str=input(\"Enter some comma seperated numbers: \")\n",
    "l=str.split(\",\")\n",
    "s=i=0\n",
    "for i in l:\n",
    "    s=s+int(i)\n",
    "print(\"Sum of elements of the list \",1,\"is:\",s)"
   ]
  },
  {
   "cell_type": "code",
   "execution_count": 37,
   "metadata": {},
   "outputs": [
    {
     "name": "stdout",
     "output_type": "stream",
     "text": [
      "enter a number:4\n",
      "The required pyramid is:\n",
      "1 \n",
      "\n",
      "2 4 \n",
      "\n",
      "3 6 9 \n",
      "\n",
      "4 8 12 16 \n",
      "\n"
     ]
    }
   ],
   "source": [
    "#Pyramid of multiples\n",
    "n=int(input(\"enter a number:\"))\n",
    "print(\"The required pyramid is:\")\n",
    "\n",
    "for i in range(1,n+1):\n",
    "    \n",
    "    \n",
    "     for j in range(1,i+1):\n",
    "        print(i*j,end=\" \")\n",
    "     print(\"\\n\")"
   ]
  },
  {
   "cell_type": "code",
   "execution_count": 11,
   "metadata": {},
   "outputs": [
    {
     "name": "stdout",
     "output_type": "stream",
     "text": [
      "enter malayalam\n",
      "frequency of the character m is: 2\n",
      "frequency of the character a is: 4\n",
      "frequency of the character l is: 2\n",
      "frequency of the character y is: 1\n"
     ]
    }
   ],
   "source": [
    "#Frequency of characters of a string\n",
    "n=input(\"enter \")\n",
    "l=list(n)\n",
    "s=[]\n",
    "[s.append(x) for x in l if x not in s]\n",
    "for i in s:\n",
    "    m=l.count(i)\n",
    "    print(\"frequency of the character\",i,\"is:\",m)"
   ]
  },
  {
   "cell_type": "code",
   "execution_count": 26,
   "metadata": {},
   "outputs": [
    {
     "name": "stdout",
     "output_type": "stream",
     "text": [
      "Enter a number:16\n",
      "The factors of the given number 16 are:\n",
      "16 8 4 2 1 "
     ]
    }
   ],
   "source": [
    "#Factors of a given number\n",
    "num=int(input(\"Enter a number:\"))\n",
    "i=num\n",
    "print(\"The factors of the given number\",num,'are:')\n",
    "while i>0:\n",
    "    if(num%i==0):\n",
    "        print(i,\"\",end=\"\")\n",
    "    i=i-1\n",
    "    "
   ]
  },
  {
   "cell_type": "code",
   "execution_count": 38,
   "metadata": {},
   "outputs": [
    {
     "name": "stdout",
     "output_type": "stream",
     "text": [
      "*\n",
      "\n",
      "**\n",
      "\n",
      "***\n",
      "\n",
      "****\n",
      "\n",
      "*****\n",
      "\n",
      "****\n",
      "\n",
      "***\n",
      "\n",
      "**\n",
      "\n",
      "*\n",
      "\n"
     ]
    }
   ],
   "source": [
    "#STAR PATTERN\n",
    "for i in range(0,4):\n",
    "    for j in range(0,i+1):\n",
    "         print(\"*\",end=\"\")\n",
    "    print(\"\\n\")\n",
    "for i in range(4,-1,-1):\n",
    "    for j in range(0,i+1):\n",
    "        print(\"*\",end=\"\")\n",
    "    print(\"\\n\")"
   ]
  },
  {
   "cell_type": "code",
   "execution_count": null,
   "metadata": {
    "collapsed": true
   },
   "outputs": [],
   "source": []
  }
 ],
 "metadata": {
  "kernelspec": {
   "display_name": "Python 3",
   "language": "python",
   "name": "python3"
  },
  "language_info": {
   "codemirror_mode": {
    "name": "ipython",
    "version": 3
   },
   "file_extension": ".py",
   "mimetype": "text/x-python",
   "name": "python",
   "nbconvert_exporter": "python",
   "pygments_lexer": "ipython3",
   "version": "3.6.3"
  }
 },
 "nbformat": 4,
 "nbformat_minor": 2
}
