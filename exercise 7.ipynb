{
 "cells": [
  {
   "cell_type": "code",
   "execution_count": 4,
   "metadata": {},
   "outputs": [
    {
     "name": "stdout",
     "output_type": "stream",
     "text": [
      "enter some coma seperated integers:123,5,67,876,345,66\n",
      "The required list is:   ['over', 5, 67, 'over', 'over', 66]\n"
     ]
    }
   ],
   "source": [
    "\n",
    "print(\"the list of colors only in list 1 not in list 2 :  \",l3)#2 exceeding 100 integers to \"over\"\n",
    "l=list(map(int,input(\"enter some coma seperated integers:\").split(\",\")))\n",
    "for i in range(len(l)):\n",
    "    if l[i]>100:\n",
    "     l[i]=\"over\"\n",
    "print(\"The required list is:  \",l)"
   ]
  },
  {
   "cell_type": "code",
   "execution_count": 3,
   "metadata": {},
   "outputs": [
    {
     "name": "stdout",
     "output_type": "stream",
     "text": [
      "enter some coma seperated first names:roma,diana,teena\n",
      "number of occurences of a in roma is: 1\n",
      "number of occurences of a in diana is: 2\n",
      "number of occurences of a in teena is: 1\n",
      "Total number of occurences of a in list is: 4\n"
     ]
    }
   ],
   "source": [
    "#3 number of occurences of a list of firstnames\n",
    "name=input(\"enter some coma seperated first names:\")\n",
    "l=name.split(\",\")\n",
    "t=0\n",
    "for i in l:\n",
    "    print(\"number of occurences of a in\",i,\"is:\",i.count(\"a\"))\n",
    "    t=t+i.count(\"a\")\n",
    "print(\"Total number of occurences of a in list is:\",t)"
   ]
  },
  {
   "cell_type": "code",
   "execution_count": 4,
   "metadata": {},
   "outputs": [
    {
     "name": "stdout",
     "output_type": "stream",
     "text": [
      "enter some coma seperated integers for list 1: 3,5,6\n",
      "enter some coma seperated integers for list 2: 6,7,5,3\n",
      "the entered lists are different size\n",
      "both list have different sum of elements...\n",
      "same members are: [3, 5, 6]\n"
     ]
    }
   ],
   "source": [
    "#4 some list operations\n",
    "l1=list(map(int,input(\"enter some coma seperated integers for list 1: \").split(\",\")))\n",
    "l2=list(map(int,input(\"enter some coma seperated integers for list 2: \").split(\",\")))\n",
    "if len(l1)!=len(l2):\n",
    "    print(\"the entered lists are different size\")\n",
    "else:\n",
    "    print(\"both lists have same length and length is:\",len(l1))\n",
    "if(sum(l1)==sum(l2)):\n",
    "    print(\"both lists have same sum and the sum is:\",sum(l1))\n",
    "else:\n",
    "        print(\"both list have different sum of elements...\")\n",
    "        \n",
    "k=[i for i in l1 if i in l2]\n",
    "if len(k)!=0:\n",
    "    print(\"same members are:\",k)\n",
    "else:\n",
    "    print(\"nothing common in both lists...\")"
   ]
  },
  {
   "cell_type": "code",
   "execution_count": 7,
   "metadata": {},
   "outputs": [
    {
     "name": "stdout",
     "output_type": "stream",
     "text": [
      "enter some comma seperated integers:-1,-2,-5,6,7,5\n",
      "The required list of odd elements is:  [-1, -5, 7, 5]\n"
     ]
    }
   ],
   "source": [
    "# seperatingodd integers from list of integers\n",
    "l=list(map(int,input(\"enter some comma seperated integers:\").split(\",\")))\n",
    "r=[x for x in l if (x%2!=0)]\n",
    "print(\"The required list of odd elements is: \",r)"
   ]
  },
  {
   "cell_type": "code",
   "execution_count": 8,
   "metadata": {},
   "outputs": [
    {
     "name": "stdout",
     "output_type": "stream",
     "text": [
      "enter any word:  chrome\n",
      "['c', 'h', 'r', 'o', 'm', 'e']\n",
      "The required list of ordinal values of characters of entered word is : [99, 104, 114, 111, 109, 101]\n"
     ]
    }
   ],
   "source": [
    "#ordinal values of characters of a word\n",
    "word=input(\"enter any word:  \")\n",
    "l=list(word)\n",
    "print(l)\n",
    "o=[ord(x) for x in l]\n",
    "print(\"The required list of ordinal values of characters of entered word is :\",o)"
   ]
  },
  {
   "cell_type": "code",
   "execution_count": 9,
   "metadata": {},
   "outputs": [
    {
     "name": "stdout",
     "output_type": "stream",
     "text": [
      "ENTER SOME COMMA SEPERATED LIST OF INTEGERS; -33,-4,6,78\n",
      "The list of positive values is:   [6, 78]\n"
     ]
    }
   ],
   "source": [
    "#a positive list of numbers from a given list of integers\n",
    "l=list(map(int,input(\"ENTER SOME COMMA SEPERATED LIST OF INTEGERS: \").split(\",\")))\n",
    "rest=[x for x in l if x>0]\n",
    "print(\"The list of positive values is:  \",rest)"
   ]
  },
  {
   "cell_type": "code",
   "execution_count": 10,
   "metadata": {},
   "outputs": [
    {
     "name": "stdout",
     "output_type": "stream",
     "text": [
      "Enter some comma seperated list of integers:3,4,2\n",
      "THE RESULT LIST OF SQUARES:   [9, 16, 4]\n"
     ]
    }
   ],
   "source": [
    "#square of n numbers\n",
    "l=list(map(int,input(\"Enter some comma seperated list of integers:\").split(\",\")))\n",
    "rest=[x*x for x in l]\n",
    "print(\"THE RESULT LIST OF SQUARES:  \",rest)"
   ]
  },
  {
   "cell_type": "code",
   "execution_count": 2,
   "metadata": {},
   "outputs": [
    {
     "name": "stdout",
     "output_type": "stream",
     "text": [
      "ENTER A WORD:  where are you\n",
      "THE RESULT LIST OF VOWELS:   ['e', 'a', 'o', 'u']\n"
     ]
    }
   ],
   "source": [
    "#vowels of a given word\n",
    "w=input(\"ENTER A WORD:  \")\n",
    "rest=[]\n",
    "rest=[x for x in w if x in['a','e','i','o','u','A','I','E','O','U']]\n",
    "temp=[]\n",
    "for i in rest:\n",
    "    if i not in temp:\n",
    "        temp.append(i)\n",
    "print(\"THE RESULT LIST OF VOWELS:  \",temp)"
   ]
  },
  {
   "cell_type": "code",
   "execution_count": 4,
   "metadata": {},
   "outputs": [
    {
     "name": "stdout",
     "output_type": "stream",
     "text": [
      "enter the number of elements:  4\n",
      "enter key:  3\n",
      "enter value:  44\n",
      "enter key:  1\n",
      "enter value:  54\n",
      "enter key:  4\n",
      "enter value:  32\n",
      "enter key:  2\n",
      "enter value:  52\n",
      "the dictionary values in ascending order:   ['32', '44', '52', '54']\n",
      "the dictionary values in descending order:   ['54', '52', '44', '32']\n"
     ]
    }
   ],
   "source": [
    "#to sort a dictionary\n",
    "d={}\n",
    "l1={}\n",
    "n=int(input(\"enter the number of elements:  \"))\n",
    "for i in range(n):\n",
    "        key=input(\"enter key:  \")\n",
    "        value=input(\"enter value:  \")\n",
    "        d.update({key:value})\n",
    "l1=sorted(d.values())\n",
    "l2=sorted(d.values(),reverse=True)\n",
    "\n",
    "print(\"the dictionary values in ascending order:  \",l1[0:])\n",
    "print(\"the dictionary values in descending order:  \",l2)"
   ]
  },
  {
   "cell_type": "code",
   "execution_count": 7,
   "metadata": {},
   "outputs": [
    {
     "name": "stdout",
     "output_type": "stream",
     "text": [
      "Enter the number of elements of dictionary 1:  2\n",
      "enter the key:  1\n",
      "enter value 23\n",
      "enter the key:  2\n",
      "enter value 45\n",
      "enter the number of elements of dictionary 2:  3\n",
      "enter key: 4\n",
      "enter value 67\n",
      "enter key: 3\n",
      "enter value 78\n",
      "enter key: 5\n",
      "enter value 78\n",
      "the merged dictionary is:   {'1': '23', '2': '45', '4': '67', '3': '78', '5': '78'}\n"
     ]
    }
   ],
   "source": [
    "#merge to dictionaries\n",
    "d1={}                                                                                     \n",
    "d2={}\n",
    "d3={}\n",
    "n1=int(input(\"Enter the number of elements of dictionary 1:  \"))\n",
    "for i in range(n1):\n",
    "    key=input(\"enter the key:  \")\n",
    "    value=input(\"enter value \")\n",
    "    d1.update({key:value})\n",
    "n2=int(input(\"enter the number of elements of dictionary 2:  \"))\n",
    "for i in range(n2):\n",
    "    key=input(\"enter key: \")\n",
    "    value=input(\"enter  the value \")\n",
    "    d2.update({key:value})\n",
    "d3.update(d1)\n",
    "d3.update(d2)\n",
    "print(\"the merged dictionary is:  \",d3)"
   ]
  },
  {
   "cell_type": "code",
   "execution_count": 19,
   "metadata": {},
   "outputs": [
    {
     "name": "stdout",
     "output_type": "stream",
     "text": [
      "enter the number of colors of list 1:  3\n",
      "enter color:red \n",
      "enter color:blue\n",
      "enter color:black\n",
      "enter the number of colors of list 2:  2\n",
      "enter color:  yellow\n",
      "enter color:  orange\n",
      "the list of colors only in list 1 not in list 2 :   ['red ', 'blue', 'black']\n"
     ]
    }
   ],
   "source": [
    "#color list\n",
    "l1=[]\n",
    "l2=[]\n",
    "n1=int(input(\"enter the number of colors of list 1:  \"))\n",
    "for i in range(n1):\n",
    "    clr1=input(\"enter color:\")\n",
    "    l1.append(clr1)\n",
    "n2=int(input(\"enter the number of colors of list 2:  \"))\n",
    "for i in range(n2):\n",
    "print(\"the list of colors only in list 1 not in list 2 :  \",l3)\n",
    "    clr2=input(\"enter color:  \")\n",
    "    l2.append(clr2)\n",
    "l3=[x for x in l1 if x not in l2]\n",
    "print(\"the list of colors only in list 1 not in list 2 :  \",l3)"
   ]
  },
  {
   "cell_type": "code",
   "execution_count": null,
   "metadata": {
    "collapsed": true
   },
   "outputs": [],
   "source": []
  }
 ],
 "metadata": {
  "kernelspec": {
   "display_name": "Python 3",
   "language": "python",
   "name": "python3"
  },
  "language_info": {
   "codemirror_mode": {
    "name": "ipython",
    "version": 3
   },
   "file_extension": ".py",
   "mimetype": "text/x-python",
   "name": "python",
   "nbconvert_exporter": "python",
   "pygments_lexer": "ipython3",
   "version": "3.6.3"
  }
 },
 "nbformat": 4,
 "nbformat_minor": 2
}
