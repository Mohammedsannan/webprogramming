{
 "cells": [
  {
   "cell_type": "code",
   "execution_count": 1,
   "metadata": {},
   "outputs": [
    {
     "name": "stdout",
     "output_type": "stream",
     "text": [
      "Enter some comma seperated words:  man,female,howareyou\n",
      "the length of longest word is : 9\n"
     ]
    }
   ],
   "source": [
    "#LENGTH OF LONGEST WORD\n",
    "l1=[]\n",
    "str1=input(\"Enter some comma seperated words:  \")\n",
    "l=str1.split(\",\")\n",
    "for i in l:\n",
    "    l1.append(len(i))\n",
    "print(\"the length of longest word is :\",max(l1))\n"
   ]
  },
  {
   "cell_type": "code",
   "execution_count": 2,
   "metadata": {},
   "outputs": [
    {
     "name": "stdout",
     "output_type": "stream",
     "text": [
      "enter a word:jar\n",
      "the word before formatting is: jar\n",
      "the formatted word is: jaring\n"
     ]
    }
   ],
   "source": [
    "#ing string formatting\n",
    "word=input(\"enter a word:\")\n",
    "print(\"the word before formatting is:\",word)\n",
    "#str1=word[-3]+word[-2]+word[-1]\n",
    "str1=word[-3:]\n",
    "if str1=='ing':\n",
    "     word=word+\"ly\"\n",
    "else:\n",
    "     word=word+\"ing\"\n",
    "print(\"the formatted word is:\",word)\n"
   ]
  },
  {
   "cell_type": "code",
   "execution_count": 20,
   "metadata": {},
   "outputs": [
    {
     "name": "stdout",
     "output_type": "stream",
     "text": [
      "enter a 4 digit lower range:1000\n",
      "enter a 4 digit higher range:9999\n",
      "the required list is: [4624, 6084, 6400, 8464]\n"
     ]
    }
   ],
   "source": [
    "#perfect square and 4 digit\n",
    "#l=list(map(int,input(\"enter some comma seperates 4 digit:)))\n",
    "import math\n",
    "n1=int(input(\"enter a 4 digit lower range:\"))\n",
    "n2=int(input(\"enter a 4 digit higher range:\"))\n",
    "  \n",
    "\n",
    "    \n",
    "l=[]\n",
    "x=0\n",
    "for i in range(n1,n2):\n",
    "    x=i\n",
    "    while x!=0:\n",
    "        k1=x%10\n",
    "        x=int(x/10)\n",
    "        k2=x%10\n",
    "        x=int(x/10)\n",
    "        k3=x%10\n",
    "        x=int(x/10)\n",
    "        k4=x%10\n",
    "        x=int(x/10)\n",
    "        sq=int(math.sqrt(i))\n",
    "        if sq*sq==i:\n",
    "            if k1%2==0 and k2%2==0 and k3%2==0 and k4%2==0:\n",
    "               l.append(i)\n",
    "\n",
    "print(\"the required list is:\",l)"
   ]
  },
  {
   "cell_type": "code",
   "execution_count": 6,
   "metadata": {},
   "outputs": [
    {
     "name": "stdout",
     "output_type": "stream",
     "text": [
      "\n",
      " 1.SQUARE  \n",
      " 2.RECTANGLE \n",
      " 3.TRIANGLE \n",
      " 4.EXIT\n",
      "Enter any option:  2\n",
      "Enter the length: 1\n",
      "Enter the breadth:  2\n",
      "Area of rectangle:  2\n",
      "\n",
      " 1.SQUARE  \n",
      " 2.RECTANGLE \n",
      " 3.TRIANGLE \n",
      " 4.EXIT\n",
      "Enter any option:  3\n",
      "Enter first side:   1\n",
      "Enter second side:  2\n",
      "Enter third side: 2\n",
      "Area of triangle: 0.9682458365518543\n",
      "\n",
      " 1.SQUARE  \n",
      " 2.RECTANGLE \n",
      " 3.TRIANGLE \n",
      " 4.EXIT\n",
      "Enter any option:  4\n",
      "Exiting...\n"
     ]
    }
   ],
   "source": [
    "#area using lambda function\n",
    "sarea=lambda a:a*a\n",
    "rectarea=lambda a,b:a*b\n",
    "triarea=lambda a,b,c,s:(s*(s-a)*(s-b)*(s-c))**.5\n",
    "while(1):\n",
    "    print(\"\\n 1.SQUARE  \\n 2.RECTANGLE \\n 3.TRIANGLE \\n 4.EXIT\")\n",
    "    ch=int(input(\"Enter any option:  \"))\n",
    "    \n",
    "    if ch==1:\n",
    "        a=int(input(\"Enter the side: \"))\n",
    "        print(\"Area of square: \",sarea(a))\n",
    "    elif ch==2:\n",
    "        a=int(input(\"Enter the length: \"))\n",
    "        b=int(input(\"Enter the breadth:  \"))\n",
    "        print(\"Area of rectangle: \",rectarea(a,b))\n",
    "    elif ch==3:\n",
    "        a=int(input(\"Enter first side:   \"))\n",
    "        b=int(input(\"Enter second side:  \"))\n",
    "        c=int(input(\"Enter third side: \"))\n",
    "        s=(a+b+c)/2\n",
    "        print(\"Area of triangle:\",triarea(a,b,c,s))\n",
    "    else:\n",
    "        print(\"Exiting...\")\n",
    "        break\n"
   ]
  },
  {
   "cell_type": "code",
   "execution_count": null,
   "metadata": {
    "collapsed": true
   },
   "outputs": [],
   "source": []
  },
  {
   "cell_type": "code",
   "execution_count": null,
   "metadata": {
    "collapsed": true
   },
   "outputs": [],
   "source": []
  },
  {
   "cell_type": "code",
   "execution_count": null,
   "metadata": {
    "collapsed": true
   },
   "outputs": [],
   "source": []
  }
 ],
 "metadata": {
  "kernelspec": {
   "display_name": "Python 3",
   "language": "python",
   "name": "python3"
  },
  "language_info": {
   "codemirror_mode": {
    "name": "ipython",
    "version": 3
   },
   "file_extension": ".py",
   "mimetype": "text/x-python",
   "name": "python",
   "nbconvert_exporter": "python",
   "pygments_lexer": "ipython3",
   "version": "3.6.3"
  }
 },
 "nbformat": 4,
 "nbformat_minor": 2
}
