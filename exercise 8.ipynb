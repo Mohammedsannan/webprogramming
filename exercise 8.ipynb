{
 "cells": [
  {
   "cell_type": "code",
   "execution_count": 7,
   "metadata": {},
   "outputs": [
    {
     "name": "stdout",
     "output_type": "stream",
     "text": [
      "enter first number:  2\n",
      "enter the second number:  2\n",
      "enter the third number:  2\n",
      "the numbers are equal,the sum is: 6 and thrice of sum is: 18\n"
     ]
    }
   ],
   "source": [
    "#sum using function\n",
    "num1=int(input(\"enter first number:  \"))\n",
    "num2=int(input(\"enter the second number:  \"))\n",
    "num3=int(input(\"enter the third number:  \"))\n",
    "def sss(x,y,z):\n",
    "    s=x+y+z\n",
    "    s2='nil'\n",
    "    \n",
    "    if x==y==z:\n",
    "     s2=3*s\n",
    "    return(s,s2)\n",
    "\n",
    "r1,r2=sss(num1,num2,num3)\n",
    "if r2=='nil':\n",
    "     print(\"the numbers are unequal and sum is: \",r1)\n",
    "else:\n",
    "     print(\"the numbers are equal,the sum is:\",r1,\"and thrice of sum is:\",r2)\n"
   ]
  },
  {
   "cell_type": "code",
   "execution_count": 9,
   "metadata": {},
   "outputs": [
    {
     "name": "stdout",
     "output_type": "stream",
     "text": [
      "enter anumber:333\n",
      "the sum of digits is: 9\n"
     ]
    }
   ],
   "source": [
    "#sum of digits of a number\n",
    "num=input(\"enter a number:\")\n",
    "\n",
    "def sd(x):\n",
    "    temp=x\n",
    "    s=0\n",
    "    for i in temp:\n",
    "     s=s+int(i)\n",
    "    return s\n",
    "s1=sd(num)\n",
    "print(\"the sum of digits is:\",s1)"
   ]
  },
  {
   "cell_type": "code",
   "execution_count": 3,
   "metadata": {},
   "outputs": [
    {
     "name": "stdout",
     "output_type": "stream",
     "text": [
      "enter a string:NASeera\n",
      "number of uppercase are: 3\n",
      "number of lowercase are: 4\n"
     ]
    }
   ],
   "source": [
    "#number of uppercase and lowercase of a word\n",
    "x=input(\"enter a string:\")\n",
    "\n",
    "def ul(x):\n",
    "    u=l=0\n",
    "    for x in x:\n",
    "        if x.isupper()==1:\n",
    "             u=u+1\n",
    "        else:\n",
    "            x.islower()==1\n",
    "            l=l+1\n",
    "            \n",
    "    return(u,l)\n",
    "up,lw=ul(x)\n",
    "print(\"number of uppercase are:\",up)\n",
    "print(\"number of lowercase are:\",lw)"
   ]
  },
  {
   "cell_type": "code",
   "execution_count": 2,
   "metadata": {},
   "outputs": [
    {
     "name": "stdout",
     "output_type": "stream",
     "text": [
      "Enter a number(>2):6\n",
      " is not prime..\n"
     ]
    }
   ],
   "source": [
    "#CHECK PRIME OR NOT\n",
    "import math\n",
    "n=int(input(\"Enter a number(>2):\"))\n",
    "f=1\n",
    "def prime(num):\n",
    "    \n",
    "    for i in range(2,int(math.sqrt(num)+1)):\n",
    "        if num%i==0:\n",
    "            return 1\n",
    "    return 0\n",
    "f=prime(n)\n",
    "if f==1:\n",
    "    print(\" is not prime..\")\n",
    "else:\n",
    "    print(\"is prime..\")\n",
    "    "
   ]
  },
  {
   "cell_type": "code",
   "execution_count": 3,
   "metadata": {},
   "outputs": [
    {
     "name": "stdout",
     "output_type": "stream",
     "text": [
      "enter current year:2000\n",
      "enter limit of year: 2040\n",
      "The leap years in the range are:\n",
      "2000 , 2000 , 2004 , 2008 , 2012 , 2016 , 2020 , 2024 , 2028 , 2032 , 2036 , 2040 , "
     ]
    }
   ],
   "source": [
    "#LEAP YEARS IN A RANGE\n",
    "\n",
    "a=int(input(\"enter current year:\"))\n",
    "b=int(input(\"enter limit of year: \"))\n",
    "def leap(l,u):\n",
    "    for i in range(l,u+1):\n",
    "        if i%4==0:\n",
    "            if i%100==0:\n",
    "                 if i%400==0:\n",
    "                     print(i,\",\",end=\" \")\n",
    "            print(i,\",\",end=\" \")\n",
    "print(\"The leap years in the range are:\")\n",
    "leap(a,b)"
   ]
  },
  {
   "cell_type": "code",
   "execution_count": null,
   "metadata": {},
   "outputs": [
    {
     "name": "stdout",
     "output_type": "stream",
     "text": [
      "enter number of employees:2\n",
      "enter name of employee: tww\n",
      "Enter salary of employee: 590\n",
      "The inputed employee name is  tww and his salary is 8000\n"
     ]
    }
   ],
   "source": [
    "#employee name salary\n",
    "def showemployee(empname,sal=8000):\n",
    "    print(\"The inputed employee name is \",empname,\"and his salary is\",sal)\n",
    "n=int(input(\"enter number of employees:\"))\n",
    "for i in range(n):\n",
    "    name=input(\"enter name of employee: \")\n",
    "    salary=int(input(\"Enter salary of employee: \"))\n",
    "    if salary<=5000:\n",
    "        showemployee(name)\n",
    "    else:\n",
    "        showemployee(name,salary)\n",
    "        "
   ]
  },
  {
   "cell_type": "code",
   "execution_count": null,
   "metadata": {},
   "outputs": [],
   "source": [
    "#minimum argument values\n",
    "l=[]\n",
    "def minvalue(*tup):\n",
    "    \n",
    "  print(\"Minimum of entered items :  \",min(tup))\n",
    "n=int(input(\"enter the number of values: \"))\n",
    "i=0\n",
    "for i in range(n):\n",
    "    k=int(input(\"enter value: \"))\n",
    "    l.append(k)\n",
    "x=tuple(l)\n",
    "minvalue(*x)"
   ]
  },
  {
   "cell_type": "code",
   "execution_count": 29,
   "metadata": {},
   "outputs": [
    {
     "name": "stdout",
     "output_type": "stream",
     "text": [
      "enter number of persons:  2\n",
      "details for person:  1\n",
      "enter number of information you wish to provide : 2\n",
      "Enter any type of info: name\n",
      "enter its value: naseera\n",
      "Enter any type of info: age\n",
      "enter its value: 24\n",
      "{'name': 'naseera', 'age': '24'}\n",
      "\n",
      "\n",
      "details for person:  2\n",
      "enter number of information you wish to provide : 2\n",
      "Enter any type of info: name\n",
      "enter its value: nasra\n",
      "Enter any type of info: class\n",
      "enter its value: 1 sem\n",
      "{'name': 'nasra', 'class': '1 sem'}\n",
      "\n",
      "\n"
     ]
    }
   ],
   "source": [
    "#userinfo\n",
    "\n",
    "def uinfo(**d1):\n",
    "    print(d1)\n",
    "    d.clear()\n",
    "    print(\"\\n\")\n",
    "    \n",
    "d={}\n",
    "n=int(input(\"enter number of persons:  \"))\n",
    "for i in range(n):\n",
    "    print(\"details for person: \",i+1)\n",
    "    n2=int(input(\"enter number of information you wish to provide : \"))\n",
    "    for j in range(n2):\n",
    "        key=input(\"Enter any type of info: \")\n",
    "        val=input(\"enter its value: \")\n",
    "        d.update({key:val})\n",
    "    uinfo(**d)"
   ]
  },
  {
   "cell_type": "code",
   "execution_count": null,
   "metadata": {
    "collapsed": true
   },
   "outputs": [],
   "source": []
  }
 ],
 "metadata": {
  "kernelspec": {
   "display_name": "Python 3",
   "language": "python",
   "name": "python3"
  },
  "language_info": {
   "codemirror_mode": {
    "name": "ipython",
    "version": 3
   },
   "file_extension": ".py",
   "mimetype": "text/x-python",
   "name": "python",
   "nbconvert_exporter": "python",
   "pygments_lexer": "ipython3",
   "version": "3.6.3"
  }
 },
 "nbformat": 4,
 "nbformat_minor": 2
}
