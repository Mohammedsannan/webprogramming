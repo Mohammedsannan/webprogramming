{
 "cells": [
  {
   "cell_type": "code",
   "execution_count": 1,
   "metadata": {},
   "outputs": [
    {
     "name": "stdout",
     "output_type": "stream",
     "text": [
      "Enter the numbers seperated by comma:  3,4,5,6\n",
      "The list of numbers are: ['3', '4', '5', '6']\n"
     ]
    }
   ],
   "source": [
    "#Program for listingthe numbers in which the numbers are seperated by comma\n",
    "numbers=input(\"Enter the numbers seperated by comma:  \")\n",
    "list=numbers.split(\",\")\n",
    "print(\"The list of numbers are:\",list)"
   ]
  },
  {
   "cell_type": "code",
   "execution_count": 3,
   "metadata": {},
   "outputs": [
    {
     "name": "stdout",
     "output_type": "stream",
     "text": [
      "enter the colour name seperted by comma:red,blue,white,yellow\n",
      "The first colour from thelist of colours is :  red\n",
      "The last colour from the list of colours is :  yellow\n"
     ]
    }
   ],
   "source": [
    "#Program to list colours from comma seperated colour names entered by user .display first and last colours from a list of colourslist=colo\n",
    "colours=input(\"Enter the colour name seperted by comma:\")\n",
    "list=colours.split(\",\")\n",
    "print(\"The first colour from thelist of colours is : \",list[0])\n",
    "print(\"The last colour from the list of colours is : \",list[-1])"
   ]
  },
  {
   "cell_type": "code",
   "execution_count": 12,
   "metadata": {},
   "outputs": [
    {
     "name": "stdout",
     "output_type": "stream",
     "text": [
      "Enter the file name:seminar.jpg\n",
      "The extension of the file is: jpg\n"
     ]
    }
   ],
   "source": [
    "#Program to acceptthe filename from user and to print extension of that file\n",
    "filename=input(\"Enter the file name:\")\n",
    "ext=filename.split(\".\");\n",
    "print(\"The extension of the file is:\",ext[-1])"
   ]
  },
  {
   "cell_type": "code",
   "execution_count": null,
   "metadata": {
    "collapsed": true
   },
   "outputs": [],
   "source": []
  }
 ],
 "metadata": {
  "kernelspec": {
   "display_name": "Python 3",
   "language": "python",
   "name": "python3"
  },
  "language_info": {
   "codemirror_mode": {
    "name": "ipython",
    "version": 3
   },
   "file_extension": ".py",
   "mimetype": "text/x-python",
   "name": "python",
   "nbconvert_exporter": "python",
   "pygments_lexer": "ipython3",
   "version": "3.6.3"
  }
 },
 "nbformat": 4,
 "nbformat_minor": 2
}
