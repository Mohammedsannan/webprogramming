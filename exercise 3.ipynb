{
 "cells": [
  {
   "cell_type": "code",
   "execution_count": 1,
   "metadata": {},
   "outputs": [
    {
     "name": "stdout",
     "output_type": "stream",
     "text": [
      "enter the celcius:  5\n",
      "the farrenheat is:  41.0\n"
     ]
    }
   ],
   "source": [
    "#program to convert celcius to farrenheat\n",
    "celcius=float(input(\"enter the celcius:  \"))\n",
    "f=(celcius*9/5)+32\n",
    "print(\"the farrenheat is: \",f)"
   ]
  },
  {
   "cell_type": "code",
   "execution_count": 1,
   "metadata": {},
   "outputs": [
    {
     "name": "stdout",
     "output_type": "stream",
     "text": [
      "enter value in km\\h: 5\n",
      "kilometer in miles: 3.106855\n"
     ]
    }
   ],
   "source": [
    "#program to convert mile to kilometre\n",
    "km=float(input(\"enter value in km\\h: \"))\n",
    "ratio=0.621371\n",
    "miles=km*ratio\n",
    "print(\"kilometer in miles:\",miles)"
   ]
  },
  {
   "cell_type": "code",
   "execution_count": 2,
   "metadata": {},
   "outputs": [
    {
     "name": "stdout",
     "output_type": "stream",
     "text": [
      "Enter the first number\n",
      "33\n",
      "Enter the second number\n",
      "44\n",
      "Enter the third number\n",
      "41\n",
      "The largest number is: 44\n"
     ]
    }
   ],
   "source": [
    "#program to find largest from 3 numbers\n",
    "a=int(input(\"Enter the first number\\n\"))\n",
    "b=int(input(\"Enter the second number\\n\"))\n",
    "c=int(input(\"Enter the third number\\n\"))\n",
    "print(\"The largest number is:\",max(a,b,c))"
   ]
  },
  {
   "cell_type": "code",
   "execution_count": null,
   "metadata": {
    "collapsed": true
   },
   "outputs": [],
   "source": []
  },
  {
   "cell_type": "code",
   "execution_count": null,
   "metadata": {
    "collapsed": true
   },
   "outputs": [],
   "source": []
  }
 ],
 "metadata": {
  "kernelspec": {
   "display_name": "Python 3",
   "language": "python",
   "name": "python3"
  },
  "language_info": {
   "codemirror_mode": {
    "name": "ipython",
    "version": 3
   },
   "file_extension": ".py",
   "mimetype": "text/x-python",
   "name": "python",
   "nbconvert_exporter": "python",
   "pygments_lexer": "ipython3",
   "version": "3.6.3"
  }
 },
 "nbformat": 4,
 "nbformat_minor": 2
}
