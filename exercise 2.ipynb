{
 "cells": [
  {
   "cell_type": "code",
   "execution_count": 3,
   "metadata": {},
   "outputs": [
    {
     "name": "stdout",
     "output_type": "stream",
     "text": [
      "enter an integer:4\n",
      "the sum is: 492\n"
     ]
    }
   ],
   "source": [
    "n=int(input(\"enter an integer:\"))\n",
    "f=str(n)\n",
    "t1=f+f\n",
    "t2=f+f+f\n",
    "comp=n+int(t1)+int(t2)\n",
    "print(\"the sum is:\",comp)"
   ]
  },
  {
   "cell_type": "raw",
   "metadata": {},
   "source": []
  },
  {
   "cell_type": "code",
   "execution_count": 10,
   "metadata": {},
   "outputs": [
    {
     "name": "stdout",
     "output_type": "stream",
     "text": [
      "enter the radius:3\n",
      "the area of circle is 28.274333882308138\n"
     ]
    }
   ],
   "source": [
    "import math\n",
    "r=int(input(\"enter the radius:\"))\n",
    "a=math.pi*r*r\n",
    "print(\"the area of circle is\",a)"
   ]
  },
  {
   "cell_type": "code",
   "execution_count": null,
   "metadata": {
    "collapsed": true
   },
   "outputs": [],
   "source": []
  }
 ],
 "metadata": {
  "kernelspec": {
   "display_name": "Python 3",
   "language": "python",
   "name": "python3"
  },
  "language_info": {
   "codemirror_mode": {
    "name": "ipython",
    "version": 3
   },
   "file_extension": ".py",
   "mimetype": "text/x-python",
   "name": "python",
   "nbconvert_exporter": "python",
   "pygments_lexer": "ipython3",
   "version": "3.6.3"
  }
 },
 "nbformat": 4,
 "nbformat_minor": 2
}
