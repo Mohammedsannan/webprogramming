{
 "cells": [
  {
   "cell_type": "code",
   "execution_count": 3,
   "metadata": {},
   "outputs": [
    {
     "name": "stdout",
     "output_type": "stream",
     "text": [
      "enter the source file name:  wel.txt\n",
      "enter the destination file name:  pro.txt\n",
      "file copied ...\n"
     ]
    }
   ],
   "source": [
    "#program to copy a text file to another file\n",
    "file1=input(\"enter the source file name:  \")\n",
    "file2=input(\"enter the destination file name:  \")\n",
    "f1=open(file1,\"r\")\n",
    "f2=open(file2,\"w\")\n",
    "for line in f1.readlines():\n",
    "    f2.write(line)\n",
    "f1.close()\n",
    "f2.close()\n",
    "print(\"file copied ...\")"
   ]
  },
  {
   "cell_type": "code",
   "execution_count": 6,
   "metadata": {},
   "outputs": [
    {
     "name": "stdout",
     "output_type": "stream",
     "text": [
      "enter the source file name:  pro.txt\n",
      "enter the destination file name:  wel.txt\n",
      "file copied...\n"
     ]
    }
   ],
   "source": [
    "\n",
    "#another way\n",
    "\n",
    "file1=input(\"enter the source file name:  \")\n",
    "file2=input(\"enter the destination file name:  \")\n",
    "f1=open(file1,\"r\")\n",
    "f2=open(file2,\"w\")\n",
    "l=f1.readlines()\n",
    "f2.writelines(l)\n",
    "f1.close()\n",
    "f2.close()\n",
    "print(\"file copied...\")"
   ]
  },
  {
   "cell_type": "code",
   "execution_count": 11,
   "metadata": {},
   "outputs": [
    {
     "name": "stdout",
     "output_type": "stream",
     "text": [
      "enter the file name to append :  wel.txt\n",
      "enter the file name to be appended:  pro.txt\n",
      "File appended...\n"
     ]
    }
   ],
   "source": [
    "#append a file with another file\n",
    "file1=input(\"enter the file name to append :  \")\n",
    "file2=input(\"enter the file name to be appended:  \")\n",
    "f2=open(file2,\"a+\")\n",
    "f1=open(file1,\"r\")\n",
    "l=f1.readlines()\n",
    "f2.writelines(l)\n",
    "f1.close()\n",
    "f2.close()\n",
    "print(\"File appended...\")"
   ]
  },
  {
   "cell_type": "code",
   "execution_count": 13,
   "metadata": {},
   "outputs": [
    {
     "name": "stdout",
     "output_type": "stream",
     "text": [
      "enter the source file name:  pro.txt\n",
      "4\n"
     ]
    }
   ],
   "source": [
    "#number of lines in a file\n",
    "l=[]\n",
    "file1=input(\"enter the source file name:  \")\n",
    "f1=open(file1,\"r\")\n",
    "for line in f1.readlines():\n",
    "    l.append(line)\n",
    "print(len(l))\n",
    "\n"
   ]
  },
  {
   "cell_type": "code",
   "execution_count": 1,
   "metadata": {
    "collapsed": true
   },
   "outputs": [],
   "source": [
    "#OTHER WAY\n",
    "\n",
    "\n"
   ]
  },
  {
   "cell_type": "code",
   "execution_count": 2,
   "metadata": {},
   "outputs": [
    {
     "name": "stdout",
     "output_type": "stream",
     "text": [
      "enter the source file name: wel.txt\n",
      "enter the destination file name:  pro.txt\n",
      "file copied...\n"
     ]
    }
   ],
   "source": [
    "#PROGRAM TO COPY ONLY ODD FILES\n",
    "\n",
    "file1=input(\"enter the source file name: \")\n",
    "file2=input(\"enter the destination file name:  \")\n",
    "f1=open(file1,\"r\")\n",
    "f2=open(file2,\"w\")\n",
    "i=0\n",
    "for line in f1.readlines():\n",
    "    i=i+1\n",
    "    if i%2==0:\n",
    "        continue\n",
    "    f2.write(line)\n",
    "f1.close()\n",
    "f2.close()\n",
    "print(\"file copied...\")"
   ]
  },
  {
   "cell_type": "code",
   "execution_count": null,
   "metadata": {},
   "outputs": [],
   "source": [
    "#dictionary to csv\n",
    "\n",
    "\n",
    "import csv\n",
    "file1=input(\"enter the source csv file name :  \")\n",
    "with open(file1,\"a+\",newline='')as f1:\n",
    "    empdata=[\"empid\",\"empname\",\"dpmnt\",\"dob\",\"salary\"]\n",
    "    l=[]\n",
    "    writer=csv.DictWriter(f1,fieldnames=empdata)\n",
    "    writer.writeheader()\n",
    "    for i in range(1):\n",
    "        l=list(input(\"enter coma seperated emoid,empname,dptmnt,dob,salary\",).split(\",\"))\n",
    "        \n",
    "        writer.writerow({'empid':l[0],'empname':l[1],'dpmnt':l[2],'dob':l[3],'salary':l[4]})\n",
    "        l.clear()\n",
    "\n",
    "with open(file1,'r')as f2:\n",
    "    rdr=csv.DictReader(f2)\n",
    "    for item in rdr:\n",
    "        print(dict(item))"
   ]
  },
  {
   "cell_type": "code",
   "execution_count": null,
   "metadata": {
    "collapsed": true
   },
   "outputs": [],
   "source": []
  }
 ],
 "metadata": {
  "kernelspec": {
   "display_name": "Python 3",
   "language": "python",
   "name": "python3"
  },
  "language_info": {
   "codemirror_mode": {
    "name": "ipython",
    "version": 3
   },
   "file_extension": ".py",
   "mimetype": "text/x-python",
   "name": "python",
   "nbconvert_exporter": "python",
   "pygments_lexer": "ipython3",
   "version": "3.6.3"
  }
 },
 "nbformat": 4,
 "nbformat_minor": 2
}
