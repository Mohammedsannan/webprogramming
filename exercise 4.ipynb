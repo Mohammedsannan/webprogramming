{
 "cells": [
  {
   "cell_type": "code",
   "execution_count": 1,
   "metadata": {},
   "outputs": [
    {
     "name": "stdout",
     "output_type": "stream",
     "text": [
      "Enter a string \n",
      "naseera\n",
      "The swapped string is aaseern\n"
     ]
    }
   ],
   "source": [
    "#Program to swap fisrt and last numbers\n",
    "str=input(\"Enter a string \\n\")\n",
    "l=len(str)\n",
    "n=str[l-1]+str[1:l-1]+str[-l]\n",
    "print(\"The swapped string is:\",n)"
   ]
  },
  {
   "cell_type": "code",
   "execution_count": 3,
   "metadata": {},
   "outputs": [
    {
     "name": "stdout",
     "output_type": "stream",
     "text": [
      "Enter a string:jocker\n",
      "The new string is= joer\n"
     ]
    }
   ],
   "source": [
    "#Program to get a string by first two and last two characters from a given string\n",
    "string=str(input(\"Enter a string: \"))\n",
    "S1=string[0:2]\n",
    "S2=string[-2:]\n",
    "S3=S1+S2\n",
    "print(\"The new string is= \",S3)"
   ]
  },
  {
   "cell_type": "code",
   "execution_count": 11,
   "metadata": {},
   "outputs": [
    {
     "name": "stdout",
     "output_type": "stream",
     "text": [
      "enter a sring:\n",
      "hello\n",
      "enter a string:\n",
      "world\n",
      "The swapped string is:\n",
      " wollo herld\n"
     ]
    }
   ],
   "source": [
    "#swap first and last character of a string to get a new string\n",
    "str1=input(\"enter a sring:\\n\")\n",
    "str2=input(\"enter a string:\\n\")\n",
    "n=str2[0:2]+str1[2:]+\" \"+str1[0:2]+str2[2:]\n",
    "print(\"The swapped string is:\\n\",n)"
   ]
  },
  {
   "cell_type": "code",
   "execution_count": 1,
   "metadata": {},
   "outputs": [
    {
     "name": "stdout",
     "output_type": "stream",
     "text": [
      "Enter a string  elements\n",
      "The new string is: el$m$nts\n"
     ]
    }
   ],
   "source": [
    "#To get a string where all occurence of its first char have changed to $,except the first character itself(eg: onion-> oni$n)\n",
    "string=input(\"Enter a string  \")\n",
    "str1=string[0]\n",
    "str2=string.replace(str1,\"$\")\n",
    "str3=str1+str2[1:]\n",
    "print(\"The new string is:\",str3)"
   ]
  },
  {
   "cell_type": "code",
   "execution_count": null,
   "metadata": {
    "collapsed": true
   },
   "outputs": [],
   "source": []
  }
 ],
 "metadata": {
  "kernelspec": {
   "display_name": "Python 3",
   "language": "python",
   "name": "python3"
  },
  "language_info": {
   "codemirror_mode": {
    "name": "ipython",
    "version": 3
   },
   "file_extension": ".py",
   "mimetype": "text/x-python",
   "name": "python",
   "nbconvert_exporter": "python",
   "pygments_lexer": "ipython3",
   "version": "3.6.3"
  }
 },
 "nbformat": 4,
 "nbformat_minor": 2
}
